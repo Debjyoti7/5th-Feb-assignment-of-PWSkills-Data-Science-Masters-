{
 "cells": [
  {
   "cell_type": "markdown",
   "id": "578ee84a-4ac3-4268-bdde-e5c79c22de4d",
   "metadata": {},
   "source": [
    "# Q1. Explain Class and Object with respect to Object-Oriented Programming. Give a suitable example."
   ]
  },
  {
   "cell_type": "markdown",
   "id": "5a0e3795-7f40-42e1-8879-a620b2e3a121",
   "metadata": {},
   "source": [
    "## In object-oriented programming (OOP), a class is a blueprint or a template for creating objects. It defines a set of attributes and methods that are shared by all instances (objects) created from the class. An object, on the other hand, is an instance of a class. It is a concrete entity that has a specific state and behavior defined by its class. Objects can interact with each other by calling methods on each other, and they can also have their own unique attributes and behavior. To create an object in OOP, you first define a class that describes the object's attributes and behavior. Then, you can create an instance (object) of that class, which will have its own specific values for the attributes defined in the class. The object can then be manipulated and interacted with using the methods defined in the class."
   ]
  },
  {
   "cell_type": "code",
   "execution_count": 18,
   "id": "4643bbc0-7f53-4806-a56e-1ff0624d51eb",
   "metadata": {},
   "outputs": [
    {
     "name": "stdout",
     "output_type": "stream",
     "text": [
      "Make: K008\n",
      "Model: KIA\n",
      "Year: 2022\n"
     ]
    }
   ],
   "source": [
    "class Car:\n",
    "    def __init__(self, make, model, year):\n",
    "        self.make = make\n",
    "        self.model = model\n",
    "        self.year = year\n",
    "        self.speed = 0\n",
    "\n",
    "\n",
    "my_car = Car(\"K008\", \"KIA\", 2022)\n",
    "print(\"Make:\", my_car.make)\n",
    "print(\"Model:\", my_car.model)\n",
    "print(\"Year:\", my_car.year)\n",
    "\n",
    "\n"
   ]
  },
  {
   "cell_type": "markdown",
   "id": "9395a462-2fac-4064-ab8e-1de0893fbef1",
   "metadata": {},
   "source": [
    "# Q2. Name the four pillars of OOPs."
   ]
  },
  {
   "cell_type": "markdown",
   "id": "55b2f473-e25e-40d8-a1bf-d0a30fe43ced",
   "metadata": {
    "tags": []
   },
   "source": [
    "## 1. Encapsulation 2. Polymorphism 3.Inheritance    4. Abstraction"
   ]
  },
  {
   "cell_type": "markdown",
   "id": "cb618864-9878-4c25-9f6e-6915a5dcc27e",
   "metadata": {},
   "source": [
    "# Q3. Explain why the __init__() function is used. Give a suitable example."
   ]
  },
  {
   "cell_type": "markdown",
   "id": "01c6637c-cd76-404b-b013-0f84befd0fa2",
   "metadata": {},
   "source": [
    "## In object-oriented programming (OOP), the __init__() function is a special method that is automatically called when an object of a class is created. It is used to initialize the object's attributes (or properties) with the values passed as arguments when the object is created."
   ]
  },
  {
   "cell_type": "code",
   "execution_count": 45,
   "id": "dde2dd17-5428-4f8c-80a2-b640ea2f3871",
   "metadata": {},
   "outputs": [],
   "source": [
    "class Person:\n",
    "    def __init__(self, name, age, email):\n",
    "        self.name = name\n",
    "        self.age = age\n",
    "        self.email = email"
   ]
  },
  {
   "cell_type": "code",
   "execution_count": 46,
   "id": "0b6b823f-3fd5-4152-a3ab-2bf0872f2d87",
   "metadata": {},
   "outputs": [
    {
     "name": "stdout",
     "output_type": "stream",
     "text": [
      "ABC\n",
      "25\n",
      "ABC@gmail.com\n"
     ]
    }
   ],
   "source": [
    "person1 = Person(\"ABC\", 25, \"ABC@gmail.com\")\n",
    "print(person1.name) \n",
    "print(person1.age) \n",
    "print(person1.email)"
   ]
  },
  {
   "cell_type": "markdown",
   "id": "c7896db9-e810-430d-8f4a-2ad14dffc26d",
   "metadata": {},
   "source": [
    "# Q4. Why self is used in OOPs?"
   ]
  },
  {
   "cell_type": "markdown",
   "id": "98c6f347-409f-4997-9ba0-0d21398bac39",
   "metadata": {},
   "source": [
    "## In object-oriented programming (OOP), self is a reference to the instance (object) of a class that a method is being called on. It is a way for methods to access and modify the attributes of the object they belong to. When a method is called on an object, the object is automatically passed to the method as the first argument (after the method name). By convention, this argument is named self, although it could be named anything."
   ]
  },
  {
   "cell_type": "markdown",
   "id": "cde93b6e-a624-4070-ad05-15b01e1352bc",
   "metadata": {},
   "source": [
    "# Q5. What is inheritance? Give an example for each type of inheritance."
   ]
  },
  {
   "cell_type": "markdown",
   "id": "6356e6c4-7d45-4e5a-8af8-bc70edde4180",
   "metadata": {},
   "source": [
    "## Inheritance is a fundamental concept in object-oriented programming (OOP) that allows for the creation of new classes based on existing classes. Inheritance enables code reuse, reduces redundancy, and promotes modularity by allowing new classes to inherit the attributes and methods of existing classes."
   ]
  },
  {
   "cell_type": "markdown",
   "id": "f4936837-9471-463c-ac2b-19aea4946e9d",
   "metadata": {},
   "source": [
    "## Single Inheritance"
   ]
  },
  {
   "cell_type": "markdown",
   "id": "3f276776-72a4-4e8b-b115-42f2ac64a77e",
   "metadata": {},
   "source": [
    "# Multiple Inheritance"
   ]
  },
  {
   "cell_type": "code",
   "execution_count": 74,
   "id": "a35e3aaa-1281-4a26-923a-0c76eb85da89",
   "metadata": {},
   "outputs": [
    {
     "name": "stdout",
     "output_type": "stream",
     "text": [
      "Method 1 from Base Class 1\n",
      "Method 2 from Base Class 2\n",
      "Method 3 from Derived Class\n"
     ]
    }
   ],
   "source": [
    "class BaseClass1:\n",
    "    def method1(self):\n",
    "        print(\"Method 1 from Base Class 1\")\n",
    "\n",
    "class BaseClass2:\n",
    "    def method2(self):\n",
    "        print(\"Method 2 from Base Class 2\")\n",
    "\n",
    "class DerivedClass(BaseClass1, BaseClass2):\n",
    "    def method3(self):\n",
    "        print(\"Method 3 from Derived Class\")\n",
    "\n",
    "obj = DerivedClass()\n",
    "\n",
    "\n",
    "obj.method1()   \n",
    "obj.method2()  \n",
    "obj.method3()   \n"
   ]
  },
  {
   "cell_type": "code",
   "execution_count": 75,
   "id": "d67d4b66-7a39-41d7-8e0b-d43d50c4882a",
   "metadata": {},
   "outputs": [],
   "source": [
    "obj = DerivedClass()"
   ]
  },
  {
   "cell_type": "code",
   "execution_count": 76,
   "id": "41e77bd7-3e79-4770-a681-7bd6b650a697",
   "metadata": {},
   "outputs": [
    {
     "name": "stdout",
     "output_type": "stream",
     "text": [
      "Method 1 from Base Class 1\n"
     ]
    }
   ],
   "source": [
    "obj.method1()"
   ]
  },
  {
   "cell_type": "code",
   "execution_count": 78,
   "id": "47100f3d-33a9-422b-a81b-414950c534d9",
   "metadata": {},
   "outputs": [
    {
     "name": "stdout",
     "output_type": "stream",
     "text": [
      "Method 3 from Derived Class\n"
     ]
    }
   ],
   "source": [
    "obj.method3()"
   ]
  },
  {
   "cell_type": "markdown",
   "id": "0be5c82c-543d-40c9-8cfa-ba6dc4ae1274",
   "metadata": {},
   "source": [
    "## Multilevel Inheritance"
   ]
  },
  {
   "cell_type": "code",
   "execution_count": 72,
   "id": "0aa23ba5-0ac4-478d-86aa-4c275ea51e86",
   "metadata": {},
   "outputs": [
    {
     "name": "stdout",
     "output_type": "stream",
     "text": [
      "Method 1 from Grandparent class\n",
      "Method 2 from Parent class\n",
      "Method 3 from Child class\n"
     ]
    }
   ],
   "source": [
    "class Grandparent:\n",
    "    def method1(self):\n",
    "        print(\"Method 1 from Grandparent class\")\n",
    "\n",
    "class Parent(Grandparent):\n",
    "    def method2(self):\n",
    "        print(\"Method 2 from Parent class\")\n",
    "\n",
    "class Child(Parent):\n",
    "    def method3(self):\n",
    "        print(\"Method 3 from Child class\")\n",
    "obj = Child()\n",
    "\n",
    "obj.method1()   \n",
    "obj.method2()   \n",
    "obj.method3()  \n"
   ]
  },
  {
   "cell_type": "code",
   "execution_count": null,
   "id": "af520ebe-9f54-4489-881c-f77f37c84524",
   "metadata": {},
   "outputs": [],
   "source": []
  }
 ],
 "metadata": {
  "kernelspec": {
   "display_name": "Python 3 (ipykernel)",
   "language": "python",
   "name": "python3"
  },
  "language_info": {
   "codemirror_mode": {
    "name": "ipython",
    "version": 3
   },
   "file_extension": ".py",
   "mimetype": "text/x-python",
   "name": "python",
   "nbconvert_exporter": "python",
   "pygments_lexer": "ipython3",
   "version": "3.10.8"
  }
 },
 "nbformat": 4,
 "nbformat_minor": 5
}
